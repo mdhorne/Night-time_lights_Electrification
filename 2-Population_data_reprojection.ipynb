{
 "cells": [
  {
   "cell_type": "code",
   "execution_count": null,
   "metadata": {
    "ExecuteTime": {
     "end_time": "2020-12-04T17:03:44.411568Z",
     "start_time": "2020-12-04T17:03:42.767666Z"
    }
   },
   "outputs": [],
   "source": [
    "from pathlib import Path\n",
    "import shutil\n",
    "import requests\n",
    "import zipfile\n",
    "import rasterio\n",
    "import os\n",
    "import numpy as np\n",
    "from rasterio.warp import reproject, Resampling\n",
    "import geopandas as gpd\n",
    "from raster_manipulation import save_raster, clip_raster, exact_raster_reprojection, fast_raster_reprojection\n",
    "import wpgpDownload\n",
    "from wpgpDownload.utils.convenience_functions import download_country_covariates as download_worldpop\n",
    "\n",
    "# Ignore warnings from numpy (division by 0 or nan)\n",
    "np.seterr(divide='ignore', invalid='ignore')"
   ]
  },
  {
   "cell_type": "markdown",
   "metadata": {},
   "source": [
    "# Downloading population data"
   ]
  },
  {
   "cell_type": "markdown",
   "metadata": {},
   "source": [
    "Correcting NTL data requires population datasets. The most suited dataset is HRSL but it is not available for all countries. WorldPop data remain a good alternative."
   ]
  },
  {
   "cell_type": "code",
   "execution_count": null,
   "metadata": {
    "ExecuteTime": {
     "end_time": "2020-12-04T15:40:08.363200Z",
     "start_time": "2020-12-04T15:40:05.950651Z"
    }
   },
   "outputs": [],
   "source": [
    "from hdx.utilities.easy_logging import setup_logging\n",
    "from hdx.hdx_configuration import Configuration\n",
    "from hdx.data.dataset import Dataset\n",
    "\n",
    "setup_logging()\n",
    "Configuration.create(hdx_site='prod', user_agent='Read-only user', hdx_read_only=True)"
   ]
  },
  {
   "cell_type": "code",
   "execution_count": null,
   "metadata": {
    "ExecuteTime": {
     "end_time": "2020-12-04T15:40:13.890204Z",
     "start_time": "2020-12-04T15:40:09.022907Z"
    }
   },
   "outputs": [],
   "source": [
    "from wpgpDownload.utils.convenience_functions import refresh_csv\n",
    "refresh_csv()"
   ]
  },
  {
   "cell_type": "code",
   "execution_count": null,
   "metadata": {
    "ExecuteTime": {
     "end_time": "2020-12-04T15:40:38.010460Z",
     "start_time": "2020-12-04T15:40:23.882476Z"
    }
   },
   "outputs": [],
   "source": [
    "hdx_datasets = Dataset.search_in_hdx('hrsl', rows=500)\n",
    "hdx_resources = Dataset.get_all_resources(hdx_datasets)\n",
    "\n",
    "country_names = [f.name for f in Path(\"./\").iterdir() if len(f.name)==3]\n",
    "\n",
    "for country in country_names:\n",
    "    print(country)\n",
    "\n",
    "    for res in hdx_resources:\n",
    "        if 'population_'+country.lower() in res['name'] and '.zip' in res['name'] and 'csv' not in res['name']:\n",
    "            print('Downloading HRSL',res['name'], end='\\r')\n",
    "            url, path = res.download()\n",
    "            print('HRSL',res['name'],'download completed       ')\n",
    "            shutil.move(Path(path),Path('./'+country+'/misc_data/population_'+country.lower()+'.zip'))\n",
    "            zipfile.ZipFile(Path('./'+country+'/misc_data/population_'+country.lower()+'.zip'), 'r').extractall(Path('./'+country+'/misc_data'))\n",
    "            for file in Path('./'+country+'/misc_data').iterdir():\n",
    "                if 'population_'+country.lower() in file.name and file.suffix != '.tif':\n",
    "                    os.remove(file)\n",
    "\n",
    "    years = [2017] # WorldPop 2017 will be used alongside HRSL (if available) to detect inhabited areas\n",
    "\n",
    "    #NTL_files = [file for file in Path(\"./\"+country+\"/NTL\").iterdir() if \"NTL\" in file.name]\n",
    "    #\n",
    "    #years = []\n",
    "    #for NTL_file in NTL_files:\n",
    "    #    years.append(NTL_file.name[4:8])\n",
    "    #years = [year for year in set(years)]\n",
    "    #years.sort()\n",
    "\n",
    "    for year in years:\n",
    "        print('Downloading WorldPop '+country+' '+str(year)+'\\t\\t',end='\\r')\n",
    "        download_worldpop(ISO=country,out_folder='.\\\\'+country+'\\\\worldpop',prod_name='ppp_'+str(year))\n",
    "        print('WorldPop '+country+' '+str(year)+' download completed\\t\\t')\n",
    "    \n",
    "    print(\"\")\n",
    "    \n",
    "print('Done')"
   ]
  },
  {
   "cell_type": "markdown",
   "metadata": {},
   "source": [
    "# Population raster reprojection"
   ]
  },
  {
   "cell_type": "code",
   "execution_count": null,
   "metadata": {
    "ExecuteTime": {
     "end_time": "2020-12-04T17:04:03.865581Z",
     "start_time": "2020-12-04T17:03:47.256392Z"
    },
    "code_folding": [],
    "scrolled": true
   },
   "outputs": [],
   "source": [
    "country_names = [f.name for f in Path(\"./\").iterdir() if len(f.name)==3]\n",
    "\n",
    "for country in country_names:\n",
    "    print('')\n",
    "    print(country)\n",
    "    \n",
    "    # Clipping all NTL rasters according to GADM boundaries\n",
    "    \n",
    "    path_in = Path(\"./\"+country)\n",
    "    \n",
    "    try:\n",
    "        aoi_name = \"gadm36_\"+country+\".gpkg\"\n",
    "        aoi_in = Path(\"./\"+country+\"/misc_data\") / aoi_name\n",
    "        aoi = gpd.read_file(aoi_in, layer='gadm36_'+country+'_0')\n",
    "        \n",
    "    except:\n",
    "        print('Downloading gadm36_'+country+'_gpkg.zip')\n",
    "        url = 'https://biogeo.ucdavis.edu/data/gadm3.6/gpkg/gadm36_'+country+'_gpkg.zip'\n",
    "        r = requests.get(url, allow_redirects=True)\n",
    "        open('./'+country+'/misc_data/gadm36_'+country+'_gpkg.zip', 'wb').write(r.content)\n",
    "        zipfile.ZipFile(Path('./'+country+'/misc_data/gadm36_'+country+'_gpkg.zip'), 'r').extractall(Path('./'+country+'/misc_data'))\n",
    "        os.remove(Path('./'+country+'/misc_data/gadm36_'+country+'_gpkg.zip'))\n",
    "        os.remove(Path('./'+country+'/misc_data/license.txt'))        \n",
    "        print('gadm36_'+country+'.gpkg download completed')\n",
    "        \n",
    "        aoi_name = \"gadm36_\"+country+\".gpkg\"\n",
    "        aoi_in = Path(\"./\"+country+\"/misc_data\") / aoi_name\n",
    "        aoi = gpd.read_file(aoi_in, layer='gadm36_'+country+'_0')\n",
    "    \n",
    "    for NTL_file in Path(\"./\"+country+\"/NTL\").iterdir():\n",
    "        clipped, aff, crs = clip_raster(NTL_file, aoi)\n",
    "        save_raster(NTL_file, clipped, aff)\n",
    "        print(NTL_file.name, 'clipped')\n",
    "    \n",
    "    # Opening last NTL raster to get the targeted resolution\n",
    "    \n",
    "    ntl_in = Path(\"./\"+country+\"/NTL\") / NTL_file.name\n",
    "    ntl = rasterio.open(ntl_in)\n",
    "    \n",
    "    # Reprojecting HRSL raster\n",
    "\n",
    "    misc_data_files = [file.name for file in Path(\"./\"+country+\"/misc_data\").iterdir()]\n",
    "    if (\"HRSL_\"+country+\"_NTL-resolution.tif\" not in misc_data_files):\n",
    "        if len([file for file in misc_data_files if 'population_'+country.lower() in file])==1:\n",
    "            hrsl_name = [file for file in misc_data_files if 'population_'+country.lower() in file][0]\n",
    "            hrsl_in = Path(\"./\"+country+\"/misc_data\") / hrsl_name\n",
    "            hrsl = rasterio.open(hrsl_in)\n",
    "            \n",
    "            print('Reprojecting ', hrsl_name)\n",
    "            hrsl_ntl_reso, _ = exact_raster_reprojection(hrsl, ntl)\n",
    "\n",
    "            ntl_out = \"HRSL_\"+country+\"_NTL-resolution.tif\"\n",
    "            path_out = Path(\"./\"+country+\"/misc_data\") / ntl_out\n",
    "            save_raster(path_out, hrsl_ntl_reso, ntl.transform)\n",
    "            clipped, aff, crs = clip_raster(path_out, aoi)\n",
    "            save_raster(path_out, clipped, aff)\n",
    "            \n",
    "        else:\n",
    "            print('Unable to find one HRSL file')\n",
    "                \n",
    "    # Reprojecting WorldPop rasters\n",
    "    \n",
    "    worldpop_files = [file for file in Path(\"./\"+country+\"/worldpop\").iterdir() if 'ppp' in file.name]\n",
    "    if len(worldpop_files) > 0:\n",
    "        for file in worldpop_files:\n",
    "            if \"worldpop_\"+file.stem[-4:]+'_'+country+\"_NTL-resolution.tif\" not in [file.name for file in Path(\"./\"+country+\"/worldpop\").iterdir()]:\n",
    "                worldpop_in = Path(\"./\"+country+\"/worldpop\") / file.name\n",
    "                worldpop = rasterio.open(worldpop_in)\n",
    "                worldpop_rd = worldpop.read(1)\n",
    "\n",
    "                print('Reprojecting ',file.name)\n",
    "                #worldpop_ntl_reso, _ = exact_raster_reprojection(worldpop, ntl) # For exact but slow reprojection\n",
    "                worldpop_ntl_reso = fast_raster_reprojection(worldpop, ntl)\n",
    "\n",
    "                ntl_out = \"worldpop_\"+file.stem[-4:]+'_'+country+\"_NTL-resolution.tif\"\n",
    "                path_out = Path(\"./\"+country+\"/worldpop\") / ntl_out\n",
    "                save_raster(path_out, worldpop_ntl_reso, ntl.transform)\n",
    "                clipped, aff, crs = clip_raster(path_out, aoi)\n",
    "                save_raster(path_out, clipped, aff)\n",
    "    else:\n",
    "        print('Unable to find a WorldPop file')\n",
    "        \n",
    "print('')\n",
    "print('Done')"
   ]
  },
  {
   "cell_type": "code",
   "execution_count": null,
   "metadata": {},
   "outputs": [],
   "source": []
  }
 ],
 "metadata": {
  "hide_input": false,
  "kernelspec": {
   "display_name": "Python 3",
   "language": "python",
   "name": "python3"
  },
  "language_info": {
   "codemirror_mode": {
    "name": "ipython",
    "version": 3
   },
   "file_extension": ".py",
   "mimetype": "text/x-python",
   "name": "python",
   "nbconvert_exporter": "python",
   "pygments_lexer": "ipython3",
   "version": "3.7.8"
  },
  "toc": {
   "base_numbering": 1,
   "nav_menu": {},
   "number_sections": true,
   "sideBar": true,
   "skip_h1_title": false,
   "title_cell": "Table of Contents",
   "title_sidebar": "Contents",
   "toc_cell": false,
   "toc_position": {},
   "toc_section_display": true,
   "toc_window_display": false
  },
  "varInspector": {
   "cols": {
    "lenName": 16,
    "lenType": 16,
    "lenVar": 40
   },
   "kernels_config": {
    "python": {
     "delete_cmd_postfix": "",
     "delete_cmd_prefix": "del ",
     "library": "var_list.py",
     "varRefreshCmd": "print(var_dic_list())"
    },
    "r": {
     "delete_cmd_postfix": ") ",
     "delete_cmd_prefix": "rm(",
     "library": "var_list.r",
     "varRefreshCmd": "cat(var_dic_list()) "
    }
   },
   "types_to_exclude": [
    "module",
    "function",
    "builtin_function_or_method",
    "instance",
    "_Feature"
   ],
   "window_display": false
  }
 },
 "nbformat": 4,
 "nbformat_minor": 4
}
