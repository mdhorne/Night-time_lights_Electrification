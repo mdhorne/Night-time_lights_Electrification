{
 "cells": [
  {
   "cell_type": "code",
   "execution_count": 1,
   "metadata": {
    "ExecuteTime": {
     "end_time": "2020-12-02T21:03:07.289526Z",
     "start_time": "2020-12-02T21:03:06.797964Z"
    }
   },
   "outputs": [],
   "source": [
    "from pathlib import Path\n",
    "import rasterio\n",
    "import numpy as np\n",
    "from rasterio.warp import reproject, Resampling\n",
    "import geopandas as gpd\n",
    "from raster_manipulation import save_raster, clip_raster, exact_raster_reprojection, fast_raster_reprojection"
   ]
  },
  {
   "cell_type": "code",
   "execution_count": 2,
   "metadata": {
    "ExecuteTime": {
     "end_time": "2020-12-02T21:03:07.527192Z",
     "start_time": "2020-12-02T21:03:07.325474Z"
    },
    "code_folding": [],
    "scrolled": true
   },
   "outputs": [
    {
     "name": "stdout",
     "output_type": "stream",
     "text": [
      "\n",
      "GMB\n",
      "NTL_2014_GMB.tif clipped.\n",
      "NTL_2014_GMB_local-correction.tif clipped.\n"
     ]
    }
   ],
   "source": [
    "#country_names = [f.name for f in Path(\"./\").iterdir() if len(f.name)==3]\n",
    "country_names = ['GMB']\n",
    "\n",
    "for country in country_names:\n",
    "    print('')\n",
    "    print(country)\n",
    "    \n",
    "    # Clipping all NTL rasters according to GADM boundaries\n",
    "    \n",
    "    path_in = Path(\"./\"+country)\n",
    "    \n",
    "    aoi_name = \"gadm36_\"+country+\".gpkg\"\n",
    "    aoi_in = Path(\"./\"+country+\"/misc_data\") / aoi_name\n",
    "    aoi = gpd.read_file(aoi_in, layer='gadm36_'+country+'_0')\n",
    "    \n",
    "    for NTL_file in Path(\"./\"+country+\"/NTL\").iterdir():\n",
    "        clipped, aff, crs = clip_raster(NTL_file, aoi)\n",
    "        save_raster(NTL_file, clipped, aff)\n",
    "        print(NTL_file.name, 'clipped.')\n",
    "    \n",
    "    # Opening last NTL raster to get the targeted resolution\n",
    "    \n",
    "    ntl_in = Path(\"./\"+country+\"/NTL\") / NTL_file.name\n",
    "    ntl = rasterio.open(ntl_in)\n",
    "    \n",
    "    # Reprojecting HRSL raster\n",
    "\n",
    "    misc_data_files = [file.name for file in Path(\"./\"+country+\"/misc_data\").iterdir()]\n",
    "    if (\"HRSL_\"+country+\"_NTL-resolution.tif\" not in misc_data_files):\n",
    "        if len([file for file in misc_data_files if 'population_'+country.lower() in file])==1:\n",
    "            hrsl_name = [file for file in misc_data_files if 'population_'+country.lower() in file][0]\n",
    "            hrsl_in = Path(\"./\"+country+\"/misc_data\") / hrsl_name\n",
    "            hrsl = rasterio.open(hrsl_in)\n",
    "            \n",
    "            print('Upsampling', hrsl_name)\n",
    "            hrsl_ntl_reso, _ = exact_raster_reprojection(hrsl, ntl)\n",
    "\n",
    "            ntl_out = \"HRSL_\"+country+\"_NTL-resolution.tif\"\n",
    "            path_out = Path(\"./\"+country+\"/misc_data\") / ntl_out\n",
    "            save_raster(path_out, hrsl_ntl_reso, ntl.transform)\n",
    "            clipped, aff, crs = clip_raster(path_out, aoi)\n",
    "            save_raster(path_out, clipped, aff)\n",
    "            \n",
    "        else:\n",
    "            print('Unable to find one HRSL file.')\n",
    "                \n",
    "    # Reprojecting WorldPop rasters\n",
    "    \n",
    "    worldpop_files = [file for file in Path(\"./\"+country+\"/worldpop\").iterdir() if 'ppp' in file.name]\n",
    "    if len(worldpop_files) > 0:\n",
    "        for file in worldpop_files:\n",
    "            if \"worldpop_\"+file.stem[-4:]+'_'+country+\"_NTL-resolution.tif\" not in [file.name for file in Path(\"./\"+country+\"/worldpop\").iterdir()]:\n",
    "                worldpop_in = Path(\"./\"+country+\"/worldpop\") / file.name\n",
    "                worldpop = rasterio.open(worldpop_in)\n",
    "                worldpop_rd = worldpop.read(1)\n",
    "\n",
    "                print('Upsampling',file.name)\n",
    "                #worldpop_ntl_reso, _ = exact_raster_reprojection(worldpop, ntl) # For exact but slow reprojection\n",
    "                worldpop_ntl_reso = fast_raster_reprojection(worldpop, ntl)\n",
    "\n",
    "                ntl_out = \"worldpop_\"+file.stem[-4:]+'_'+country+\"_NTL-resolution.tif\"\n",
    "                path_out = Path(\"./\"+country+\"/worldpop\") / ntl_out\n",
    "                save_raster(path_out, worldpop_ntl_reso, ntl.transform)\n",
    "                clipped, aff, crs = clip_raster(path_out, aoi)\n",
    "                save_raster(path_out, clipped, aff)\n",
    "    else:\n",
    "        print('Unable to find a WorldPop file.')"
   ]
  },
  {
   "cell_type": "code",
   "execution_count": null,
   "metadata": {},
   "outputs": [],
   "source": []
  }
 ],
 "metadata": {
  "hide_input": false,
  "kernelspec": {
   "display_name": "Python 3",
   "language": "python",
   "name": "python3"
  },
  "language_info": {
   "codemirror_mode": {
    "name": "ipython",
    "version": 3
   },
   "file_extension": ".py",
   "mimetype": "text/x-python",
   "name": "python",
   "nbconvert_exporter": "python",
   "pygments_lexer": "ipython3",
   "version": "3.7.8"
  },
  "toc": {
   "base_numbering": 1,
   "nav_menu": {},
   "number_sections": true,
   "sideBar": true,
   "skip_h1_title": false,
   "title_cell": "Table of Contents",
   "title_sidebar": "Contents",
   "toc_cell": false,
   "toc_position": {},
   "toc_section_display": true,
   "toc_window_display": false
  },
  "varInspector": {
   "cols": {
    "lenName": 16,
    "lenType": 16,
    "lenVar": 40
   },
   "kernels_config": {
    "python": {
     "delete_cmd_postfix": "",
     "delete_cmd_prefix": "del ",
     "library": "var_list.py",
     "varRefreshCmd": "print(var_dic_list())"
    },
    "r": {
     "delete_cmd_postfix": ") ",
     "delete_cmd_prefix": "rm(",
     "library": "var_list.r",
     "varRefreshCmd": "cat(var_dic_list()) "
    }
   },
   "types_to_exclude": [
    "module",
    "function",
    "builtin_function_or_method",
    "instance",
    "_Feature"
   ],
   "window_display": false
  }
 },
 "nbformat": 4,
 "nbformat_minor": 4
}
