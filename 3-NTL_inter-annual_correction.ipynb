{
 "cells": [
  {
   "cell_type": "code",
   "execution_count": 2,
   "metadata": {
    "ExecuteTime": {
     "end_time": "2020-12-03T08:16:06.606667Z",
     "start_time": "2020-12-03T08:16:05.879717Z"
    }
   },
   "outputs": [
    {
     "data": {
      "text/plain": [
       "{'divide': 'warn', 'over': 'warn', 'under': 'ignore', 'invalid': 'warn'}"
      ]
     },
     "execution_count": 2,
     "metadata": {},
     "output_type": "execute_result"
    }
   ],
   "source": [
    "from pathlib import Path\n",
    "from raster_manipulation import save_raster, clip_raster\n",
    "import rasterio\n",
    "import matplotlib.pyplot as plt\n",
    "import geopandas as gpd\n",
    "import numpy as np\n",
    "\n",
    "# Ignore warnings from numpy (division by 0 or nan)\n",
    "np.seterr(divide='ignore', invalid='ignore')"
   ]
  },
  {
   "cell_type": "code",
   "execution_count": 32,
   "metadata": {
    "ExecuteTime": {
     "end_time": "2020-12-03T09:08:20.229634Z",
     "start_time": "2020-12-03T09:08:17.289845Z"
    },
    "scrolled": true
   },
   "outputs": [
    {
     "name": "stdout",
     "output_type": "stream",
     "text": [
      "NTL_2014_GMB 100 %      \r"
     ]
    }
   ],
   "source": [
    "#country_names = [f.name for f in Path(\"./\").iterdir() if len(f.name)==3]\n",
    "country_names = ['GMB']\n",
    "\n",
    "for country in country_names:\n",
    "    \n",
    "    NTL_files = [file for file in Path(\"./\"+country+\"/NTL\").iterdir()\n",
    "                if \"local-correction\" not in file.name]\n",
    "    \n",
    "    misc_data_files = [file.name for file in Path(\"./\"+country+\"/misc_data\").iterdir()]\n",
    "    \n",
    "    # Opening area of interest (AOI)\n",
    "    \n",
    "    aoi_name = \"gadm36_\"+country+\".gpkg\"\n",
    "    aoi_in = Path(\"./\"+country+\"/misc_data\") / aoi_name\n",
    "    aoi = gpd.read_file(aoi_in, layer='gadm36_'+country+'_0')\n",
    "    \n",
    "    for NTL_file in NTL_files:\n",
    "        \n",
    "        # Opening the population raster to identify unhabited areas\n",
    "        \n",
    "        if \"HRSL_\"+country+\"_NTL-resolution.tif\" in misc_data_files:\n",
    "            raster_pop_name = 'HRSL_'+country+'_NTL-resolution.tif'\n",
    "            raster_pop_in = Path(\"./\"+country+\"/misc_data\") / raster_pop_name\n",
    "            raster_pop = rasterio.open(raster_pop_in).read(1)\n",
    "        else:\n",
    "            population_threshold = 20 # Population threshold for WorldPop rasters to distinguish inhabited/uninhabited areas\n",
    "            year = NTL_file.name[4:8]\n",
    "            raster_pop_name = 'worldpop_'+year+'_'+country+'_NTL-resolution.tif' # WorldPop data from the exact same year is not necessary\n",
    "            raster_pop_in = Path(\"./\"+country+\"/worldpop\") / raster_pop_name\n",
    "            raster_pop = rasterio.open(raster_pop_in).read(1)\n",
    "            raster_pop = (raster_pop>20)*raster_pop\n",
    "            \n",
    "        # Opening NTL raster\n",
    "        \n",
    "        ntl = rasterio.open(NTL_files[0])\n",
    "        ntl_rd = ntl.read(1)\n",
    "        \n",
    "        # Replacing 0 values, i.e where no data is available, by np.nan\n",
    "        \n",
    "        ntl_nodata = 1.0*(rasterio.open(NTL_files[0]).read_masks()==255)[0]\n",
    "        ntl_nodata[ntl_nodata == 0.] = np.nan\n",
    "        \n",
    "        # Creating 2 masks, one for populated areas and another for unpopulated areas\n",
    "        \n",
    "        mask_ntl_pop = np.full_like(ntl_rd, np.nan)\n",
    "        mask_ntl_pop[raster_pop>0] = 1\n",
    "        mask_ntl_unpop = np.full_like(ntl_rd, np.nan)\n",
    "        mask_ntl_unpop[raster_pop<=0] = 1\n",
    "        mask_ntl_unpop[np.isnan(raster_pop)] = 1\n",
    "        mask_ntl_unpop = mask_ntl_unpop*ntl_nodata\n",
    "\n",
    "        ntl_rd_pop = ntl_rd*mask_ntl_pop\n",
    "        ntl_rd_unpop = ntl_rd*mask_ntl_unpop\n",
    "        ntl_corr = np.full_like(ntl_rd, np.nan)\n",
    "        \n",
    "        # Beginning the correction process\n",
    "        \n",
    "        # Each NTL value is corrected based on the following principle:\n",
    "        # Look for unpopulated cells in the surroundings of the cell to be corrected\n",
    "        # Surroundings is determined by a (2 x diameter) x 2 x diameter) square around the cell to be corrected\n",
    "        # >250 unpopulated cells should be found in the surroundings, otherwise, diameter increases until >250 unpopulated cells are found\n",
    "        # The lowest and highest deciles of the >250 NTL values are removed\n",
    "        # Withdraw of the mean value of radiance of the remaining unpopulated cells from the cell being corrected\n",
    "        # \n",
    "        # In short terms, NTL values are corrected by withdrawing the average value of radiance of unpopulated cells closeby\n",
    "        # Unpopulated cells are corrected by considering they should be dark (radiance is naught).\n",
    "        \n",
    "        diameter = 15\n",
    "\n",
    "        for row in range(ntl_corr.shape[0]):\n",
    "            for col in range(ntl_corr.shape[1]):\n",
    "                if ntl_nodata[row, col] == 1:\n",
    "                    diameter_temp = diameter\n",
    "                    unpop_surroundings = ntl_rd_unpop[max(0,row-diameter_temp):min(ntl_rd_pop.shape[0],row+diameter_temp+1), max(0,col-diameter_temp):min(ntl_rd_pop.shape[1],col+diameter_temp+1)]\n",
    "                    while np.count_nonzero(~np.isnan(unpop_surroundings))<250:\n",
    "                        diameter_temp += 1\n",
    "                        unpop_surroundings = ntl_rd_unpop[max(0,row-diameter_temp):min(ntl_rd_pop.shape[0],row+diameter_temp+1), max(0,col-diameter_temp):min(ntl_rd_pop.shape[1],col+diameter_temp+1)]\n",
    "\n",
    "                    list_unpop_surroundings = unpop_surroundings[np.logical_not(np.isnan(unpop_surroundings))]\n",
    "                    list_unpop_surroundings.sort()\n",
    "                    list_unpop_surroundings = list_unpop_surroundings[int(len(list_unpop_surroundings)/10):-int(len(list_unpop_surroundings)/10)]\n",
    "                    ntl_corr[row,col] = ntl_rd[row,col]-list_unpop_surroundings.mean()\n",
    "\n",
    "            if row/100 == np.floor(row/100):\n",
    "                print(NTL_file.stem, int(row/ntl_rd_pop.shape[0]*100),'%      ',end=\"\\r\")\n",
    "        \n",
    "        # If radiance is found negative, radiance is set to 0\n",
    "        \n",
    "        ntl_corr[ntl_corr<0] = 0\n",
    "        \n",
    "        # Radiance of unpopulated cells is set to 0\n",
    "        \n",
    "        ntl_corr[raster_pop<=0] = 0\n",
    "\n",
    "        print(NTL_file.stem, '100 %      ',end=\"\\r\")\n",
    "        \n",
    "        # Saving corrected raster\n",
    "        \n",
    "        ntl_out = NTL_file.stem+'_local-correction'+NTL_file.suffix\n",
    "        path_out = Path(\"./\"+country+\"/NTL\") / ntl_out\n",
    "        save_raster(path_out, ntl_corr, ntl.transform)\n",
    "        clipped, aff, crs = clip_raster(path_out, aoi)\n",
    "        save_raster(path_out, clipped, aff)"
   ]
  },
  {
   "cell_type": "markdown",
   "metadata": {},
   "source": [
    "# Observing correction"
   ]
  },
  {
   "cell_type": "code",
   "execution_count": 49,
   "metadata": {
    "ExecuteTime": {
     "end_time": "2020-12-03T09:44:33.559599Z",
     "start_time": "2020-12-03T09:44:33.260711Z"
    }
   },
   "outputs": [
    {
     "data": {
      "image/png": "[encoded data removed]",
      "text/plain": [
       "<Figure size 720x360 with 2 Axes>"
      ]
     },
     "metadata": {
      "needs_background": "light"
     },
     "output_type": "display_data"
    }
   ],
   "source": [
    "#country_names = [f.name for f in Path(\"./\").iterdir() if len(f.name)==3]\n",
    "country_names = ['GMB']\n",
    "\n",
    "for country in country_names:\n",
    "\n",
    "    NTL_files = [file for file in Path(\"./\"+country+\"/NTL\").iterdir()\n",
    "            if \"local-correction\" in file.name]\n",
    "    \n",
    "    years = []\n",
    "    for NTL_file in NTL_files:\n",
    "        years.append(NTL_file.name[4:8])\n",
    "    years.sort()\n",
    "\n",
    "    results_all = []\n",
    "    results_unpop = []\n",
    "    results_pop = []\n",
    "    \n",
    "    results_all_corr = []\n",
    "    results_unpop_corr = []\n",
    "    results_pop_corr = []\n",
    "    \n",
    "    for year in years:\n",
    "    \n",
    "        # Opening the population raster to identify unhabited areas\n",
    "\n",
    "        if \"HRSL_\"+country+\"_NTL-resolution.tif\" in misc_data_files:\n",
    "            raster_pop_name = 'HRSL_'+country+'_NTL-resolution.tif'\n",
    "            raster_pop_in = Path(\"./\"+country+\"/misc_data\") / raster_pop_name\n",
    "            raster_pop = rasterio.open(raster_pop_in).read(1)\n",
    "        else:\n",
    "            population_threshold = 20 # Population threshold for WorldPop rasters to distinguish inhabited/uninhabited areas\n",
    "            raster_pop_name = 'worldpop_'+year+'_'+country+'_NTL-resolution.tif' # WorldPop data from the exact same year is not necessary\n",
    "            raster_pop_in = Path(\"./\"+country+\"/worldpop\") / raster_pop_name\n",
    "            raster_pop = rasterio.open(raster_pop_in).read(1)\n",
    "            raster_pop = (raster_pop>20)*raster_pop\n",
    "\n",
    "        # Opening NTL rasters\n",
    "        \n",
    "        ntl_name = \"NTL_\"+year+\"_\"+country+\".tif\"\n",
    "        ntl_in = Path(\"./\"+country+'/NTL') / ntl_name\n",
    "        ntl = rasterio.open(ntl_in)\n",
    "        ntl_rd = ntl.read(1)\n",
    "        \n",
    "        ntl_corr_name = \"NTL_\"+year+\"_\"+country+\"_local-correction.tif\"\n",
    "        ntl_corr_in = Path(\"./\"+country+'/NTL') / ntl_corr_name\n",
    "        ntl_corr = rasterio.open(ntl_corr_in)\n",
    "        ntl_corr_rd = ntl_corr.read(1)\n",
    "\n",
    "        # Replacing 0 values, i.e where no data is available, by np.nan\n",
    "\n",
    "        ntl_nodata = 1.0*(rasterio.open(ntl_in).read_masks()==255)[0]\n",
    "        ntl_nodata[ntl_nodata == 0.] = np.nan\n",
    "        \n",
    "        ntl_corr_nodata = 1.0*(rasterio.open(ntl_corr_in).read_masks()==255)[0]\n",
    "        ntl_corr_nodata[ntl_corr_nodata == 0.] = np.nan\n",
    "\n",
    "        # Creating 2 masks, one for populated areas and another for unpopulated areas\n",
    "\n",
    "        mask_ntl_pop = np.full_like(ntl_rd, np.nan)\n",
    "        mask_ntl_pop[raster_pop>0] = 1\n",
    "        mask_ntl_unpop = np.full_like(ntl_rd, np.nan)\n",
    "        mask_ntl_unpop[raster_pop<=0] = 1\n",
    "        mask_ntl_unpop[np.isnan(raster_pop)] = 1\n",
    "        mask_ntl_unpop = mask_ntl_unpop*ntl_nodata\n",
    "\n",
    "        ntl_rd_pop = ntl_rd*mask_ntl_pop\n",
    "        ntl_rd_unpop = ntl_rd*mask_ntl_unpop\n",
    "        ntl_rd = ntl_rd*ntl_nodata\n",
    "    \n",
    "        results_all.append(np.nanmean(ntl_rd))\n",
    "        results_unpop.append(np.nanmean(ntl_rd_unpop))\n",
    "        results_pop.append(np.nanmean(ntl_rd_pop))\n",
    "        \n",
    "        mask_ntl_corr_pop = np.full_like(ntl_corr_rd, np.nan)\n",
    "        mask_ntl_corr_pop[raster_pop>0] = 1\n",
    "        mask_ntl_corr_unpop = np.full_like(ntl_corr_rd, np.nan)\n",
    "        mask_ntl_corr_unpop[raster_pop<=0] = 1\n",
    "        mask_ntl_corr_unpop[np.isnan(raster_pop)] = 1\n",
    "        mask_ntl_corr_unpop = mask_ntl_corr_unpop*ntl_corr_nodata\n",
    "\n",
    "        ntl_corr_rd_pop = ntl_corr_rd*mask_ntl_corr_pop\n",
    "        ntl_corr_rd_unpop = ntl_corr_rd*mask_ntl_corr_unpop\n",
    "        ntl_corr_rd = ntl_corr_rd*ntl_corr_nodata\n",
    "    \n",
    "        results_all_corr.append(np.nanmean(ntl_corr_rd))\n",
    "        results_unpop_corr.append(np.nanmean(ntl_corr_rd_unpop))\n",
    "        results_pop_corr.append(np.nanmean(ntl_corr_rd_pop))\n",
    "\n",
    "    plt.figure(figsize=(10,5))\n",
    "    plt.suptitle(country)\n",
    "    plt.subplot(121)\n",
    "    plt.title('Uncorrected')\n",
    "    plt.plot([int(year) for year in years], results_pop, '^-')\n",
    "    plt.plot([int(year) for year in years], results_all, 'o-')\n",
    "    plt.plot([int(year) for year in years], results_unpop, 'v-')\n",
    "    plt.legend(['Populated areas','All areas','Unpopulated areas'])\n",
    "    plt.ylabel('Mean of radiance')\n",
    "\n",
    "    plt.subplot(122)\n",
    "    plt.title('Corrected')\n",
    "    plt.plot([int(year) for year in years], results_pop_corr, '^-')\n",
    "    plt.plot([int(year) for year in years], results_all_corr, 'o-')\n",
    "    plt.plot([int(year) for year in years], results_unpop_corr, 'v-')\n",
    "    plt.legend(['Populated areas - corrected','All areas - corrected','Unpopulated areas - corrected'])\n",
    "    plt.ylabel('Mean of radiance')\n",
    "    \n",
    "    plt.show()"
   ]
  }
 ],
 "metadata": {
  "hide_input": false,
  "kernelspec": {
   "display_name": "Python 3",
   "language": "python",
   "name": "python3"
  },
  "language_info": {
   "codemirror_mode": {
    "name": "ipython",
    "version": 3
   },
   "file_extension": ".py",
   "mimetype": "text/x-python",
   "name": "python",
   "nbconvert_exporter": "python",
   "pygments_lexer": "ipython3",
   "version": "3.7.8"
  },
  "toc": {
   "base_numbering": 1,
   "nav_menu": {},
   "number_sections": true,
   "sideBar": true,
   "skip_h1_title": false,
   "title_cell": "Table of Contents",
   "title_sidebar": "Contents",
   "toc_cell": false,
   "toc_position": {},
   "toc_section_display": true,
   "toc_window_display": false
  },
  "varInspector": {
   "cols": {
    "lenName": 16,
    "lenType": 16,
    "lenVar": 40
   },
   "kernels_config": {
    "python": {
     "delete_cmd_postfix": "",
     "delete_cmd_prefix": "del ",
     "library": "var_list.py",
     "varRefreshCmd": "print(var_dic_list())"
    },
    "r": {
     "delete_cmd_postfix": ") ",
     "delete_cmd_prefix": "rm(",
     "library": "var_list.r",
     "varRefreshCmd": "cat(var_dic_list()) "
    }
   },
   "types_to_exclude": [
    "module",
    "function",
    "builtin_function_or_method",
    "instance",
    "_Feature"
   ],
   "window_display": false
  }
 },
 "nbformat": 4,
 "nbformat_minor": 4
}
